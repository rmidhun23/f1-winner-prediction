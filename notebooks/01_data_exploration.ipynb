{
 "cells": [
  {
   "cell_type": "markdown",
   "metadata": {},
   "source": [
    "# Data Exploration\n",
    "This notebook explores the F1 dataset to understand the data structure and identify key features for prediction."
   ]
  },
  {
   "cell_type": "code",
   "execution_count": null,
   "metadata": {},
   "outputs": [],
   "source": [
    "import pandas as pd\n",
    "import matplotlib.pyplot as plt\n",
    "\n",
    "# Set display options\n",
    "pd.set_option(\"display.max_columns\", None)\n",
    "plt.style.use(\"seaborn-v0_8\")\n"
   ]
  },
  {
   "cell_type": "markdown",
   "metadata": {},
   "source": [
    "## Load Data\n",
    "Load the F1 datasets from the raw data folder."
   ]
  },
  {
   "cell_type": "code",
   "execution_count": null,
   "metadata": {},
   "outputs": [
    {
     "name": "stdout",
     "output_type": "stream",
     "text": [
      "Data loaded successfully!\n",
      "\n",
      "Races: (1125, 18)\n",
      "Results: (26759, 18)\n",
      "Drivers: (861, 9)\n",
      "Constructors: (212, 5)\n",
      "Circuits: (77, 9)\n",
      "Lap Times: (589081, 6)\n",
      "Pit Stops: (11371, 7)\n",
      "Qualifying: (10494, 9)\n"
     ]
    }
   ],
   "source": [
    "# Load main datasets\n",
    "raw_data_path = \"../data/raw\"\n",
    "\n",
    "races = pd.read_csv(f\"{raw_data_path}/races.csv\")\n",
    "results = pd.read_csv(f\"{raw_data_path}/results.csv\")\n",
    "drivers = pd.read_csv(f\"{raw_data_path}/drivers.csv\")\n",
    "constructors = pd.read_csv(f\"{raw_data_path}/constructors.csv\")\n",
    "circuits = pd.read_csv(f\"{raw_data_path}/circuits.csv\")\n",
    "lap_times = pd.read_csv(f\"{raw_data_path}/lap_times.csv\")\n",
    "pit_stops = pd.read_csv(f\"{raw_data_path}/pit_stops.csv\")\n",
    "qualifying = pd.read_csv(f\"{raw_data_path}/qualifying.csv\")\n",
    "\n",
    "print(\"Data loaded successfully!\")\n",
    "\n",
    "print(\"\")\n",
    "print(f\"Races: {races.shape}\")\n",
    "print(f\"Results: {results.shape}\")\n",
    "print(f\"Drivers: {drivers.shape}\")\n",
    "print(f\"Constructors: {constructors.shape}\")\n",
    "print(f\"Circuits: {circuits.shape}\")\n",
    "print(f\"Lap Times: {lap_times.shape}\")\n",
    "print(f\"Pit Stops: {pit_stops.shape}\")\n",
    "print(f\"Qualifying: {qualifying.shape}\")\n"
   ]
  },
  {
   "cell_type": "markdown",
   "metadata": {},
   "source": [
    "## Data Overview"
   ]
  },
  {
   "cell_type": "code",
   "execution_count": 4,
   "metadata": {},
   "outputs": [
    {
     "name": "stdout",
     "output_type": "stream",
     "text": [
      "Races Data:\n",
      "   raceId  year  round  circuitId                   name        date  \\\n",
      "0       1  2009      1          1  Australian Grand Prix  2009-03-29   \n",
      "1       2  2009      2          2   Malaysian Grand Prix  2009-04-05   \n",
      "2       3  2009      3         17     Chinese Grand Prix  2009-04-19   \n",
      "3       4  2009      4          3     Bahrain Grand Prix  2009-04-26   \n",
      "4       5  2009      5          4     Spanish Grand Prix  2009-05-10   \n",
      "\n",
      "       time                                                url fp1_date  \\\n",
      "0  06:00:00  http://en.wikipedia.org/wiki/2009_Australian_G...       \\N   \n",
      "1  09:00:00  http://en.wikipedia.org/wiki/2009_Malaysian_Gr...       \\N   \n",
      "2  07:00:00  http://en.wikipedia.org/wiki/2009_Chinese_Gran...       \\N   \n",
      "3  12:00:00  http://en.wikipedia.org/wiki/2009_Bahrain_Gran...       \\N   \n",
      "4  12:00:00  http://en.wikipedia.org/wiki/2009_Spanish_Gran...       \\N   \n",
      "\n",
      "  fp1_time fp2_date fp2_time fp3_date fp3_time quali_date quali_time  \\\n",
      "0       \\N       \\N       \\N       \\N       \\N         \\N         \\N   \n",
      "1       \\N       \\N       \\N       \\N       \\N         \\N         \\N   \n",
      "2       \\N       \\N       \\N       \\N       \\N         \\N         \\N   \n",
      "3       \\N       \\N       \\N       \\N       \\N         \\N         \\N   \n",
      "4       \\N       \\N       \\N       \\N       \\N         \\N         \\N   \n",
      "\n",
      "  sprint_date sprint_time  \n",
      "0          \\N          \\N  \n",
      "1          \\N          \\N  \n",
      "2          \\N          \\N  \n",
      "3          \\N          \\N  \n",
      "4          \\N          \\N  \n",
      "\n",
      "Info:\n",
      "<class 'pandas.core.frame.DataFrame'>\n",
      "RangeIndex: 1125 entries, 0 to 1124\n",
      "Data columns (total 18 columns):\n",
      " #   Column       Non-Null Count  Dtype \n",
      "---  ------       --------------  ----- \n",
      " 0   raceId       1125 non-null   int64 \n",
      " 1   year         1125 non-null   int64 \n",
      " 2   round        1125 non-null   int64 \n",
      " 3   circuitId    1125 non-null   int64 \n",
      " 4   name         1125 non-null   object\n",
      " 5   date         1125 non-null   object\n",
      " 6   time         1125 non-null   object\n",
      " 7   url          1125 non-null   object\n",
      " 8   fp1_date     1125 non-null   object\n",
      " 9   fp1_time     1125 non-null   object\n",
      " 10  fp2_date     1125 non-null   object\n",
      " 11  fp2_time     1125 non-null   object\n",
      " 12  fp3_date     1125 non-null   object\n",
      " 13  fp3_time     1125 non-null   object\n",
      " 14  quali_date   1125 non-null   object\n",
      " 15  quali_time   1125 non-null   object\n",
      " 16  sprint_date  1125 non-null   object\n",
      " 17  sprint_time  1125 non-null   object\n",
      "dtypes: int64(4), object(14)\n",
      "memory usage: 158.3+ KB\n",
      "None\n"
     ]
    }
   ],
   "source": [
    "# Explore races data\n",
    "print(\"Races Data:\")\n",
    "print(races.head(5))\n",
    "\n",
    "print(\"\")\n",
    "print(\"Info:\")\n",
    "print(races.info())\n"
   ]
  },
  {
   "cell_type": "code",
   "execution_count": 5,
   "metadata": {},
   "outputs": [
    {
     "name": "stdout",
     "output_type": "stream",
     "text": [
      "Results Data:\n",
      "   resultId  raceId  driverId  constructorId number  grid position  \\\n",
      "0         1      18         1              1     22     1        1   \n",
      "1         2      18         2              2      3     5        2   \n",
      "2         3      18         3              3      7     7        3   \n",
      "3         4      18         4              4      5    11        4   \n",
      "4         5      18         5              1     23     3        5   \n",
      "\n",
      "  positionText  positionOrder  points  laps         time milliseconds  \\\n",
      "0            1              1    10.0    58  1:34:50.616      5690616   \n",
      "1            2              2     8.0    58       +5.478      5696094   \n",
      "2            3              3     6.0    58       +8.163      5698779   \n",
      "3            4              4     5.0    58      +17.181      5707797   \n",
      "4            5              5     4.0    58      +18.014      5708630   \n",
      "\n",
      "  fastestLap rank fastestLapTime fastestLapSpeed  statusId  \n",
      "0         39    2       1:27.452         218.300         1  \n",
      "1         41    3       1:27.739         217.586         1  \n",
      "2         41    5       1:28.090         216.719         1  \n",
      "3         58    7       1:28.603         215.464         1  \n",
      "4         43    1       1:27.418         218.385         1  \n",
      "\n",
      "Info:\n",
      "<class 'pandas.core.frame.DataFrame'>\n",
      "RangeIndex: 26759 entries, 0 to 26758\n",
      "Data columns (total 18 columns):\n",
      " #   Column           Non-Null Count  Dtype  \n",
      "---  ------           --------------  -----  \n",
      " 0   resultId         26759 non-null  int64  \n",
      " 1   raceId           26759 non-null  int64  \n",
      " 2   driverId         26759 non-null  int64  \n",
      " 3   constructorId    26759 non-null  int64  \n",
      " 4   number           26759 non-null  object \n",
      " 5   grid             26759 non-null  int64  \n",
      " 6   position         26759 non-null  object \n",
      " 7   positionText     26759 non-null  object \n",
      " 8   positionOrder    26759 non-null  int64  \n",
      " 9   points           26759 non-null  float64\n",
      " 10  laps             26759 non-null  int64  \n",
      " 11  time             26759 non-null  object \n",
      " 12  milliseconds     26759 non-null  object \n",
      " 13  fastestLap       26759 non-null  object \n",
      " 14  rank             26759 non-null  object \n",
      " 15  fastestLapTime   26759 non-null  object \n",
      " 16  fastestLapSpeed  26759 non-null  object \n",
      " 17  statusId         26759 non-null  int64  \n",
      "dtypes: float64(1), int64(8), object(9)\n",
      "memory usage: 3.7+ MB\n",
      "None\n"
     ]
    }
   ],
   "source": [
    "# Explore results data\n",
    "print(\"Results Data:\")\n",
    "print(results.head(5))\n",
    "\n",
    "print(\"\")\n",
    "print(\"Info:\")\n",
    "print(results.info())\n"
   ]
  },
  {
   "cell_type": "markdown",
   "metadata": {},
   "source": [
    "## Key Insights to Explore\n",
    "1. What years of data do we have?\n",
    "2. How many races per year?\n",
    "3. Who are the most successful drivers?\n",
    "4. Which constructors win most often?\n",
    "5. Missing data patterns"
   ]
  },
  {
   "cell_type": "code",
   "execution_count": null,
   "metadata": {},
   "outputs": [
    {
     "name": "stdout",
     "output_type": "stream",
     "text": [
      "Data Range:\n",
      "Spans from 1950 to 2024\n"
     ]
    },
    {
     "data": {
      "image/png": "[encoded data removed]",
      "text/plain": [
       "<Figure size 1200x600 with 1 Axes>"
      ]
     },
     "metadata": {},
     "output_type": "display_data"
    }
   ],
   "source": [
    "# Year range\n",
    "print(\"Data Range:\")\n",
    "print(f\"Spans from {races['year'].min()} to {races['year'].max()}\")\n",
    "\n",
    "# Races per year\n",
    "races_per_year = races.groupby(\"year\").size().reset_index(name=\"race_count\")\n",
    "\n",
    "plt.figure(figsize=(12, 6))\n",
    "plt.scatter(races_per_year[\"year\"], races_per_year[\"race_count\"], alpha=0.8, s=10)\n",
    "plt.xlabel(\"Year\")\n",
    "plt.ylabel(\"Number of Races\")\n",
    "plt.title(\"Number of F1 Races per Year\")\n",
    "plt.grid(True, alpha=0.4)\n",
    "plt.show()\n"
   ]
  },
  {
   "cell_type": "code",
   "execution_count": null,
   "metadata": {},
   "outputs": [
    {
     "name": "stdout",
     "output_type": "stream",
     "text": [
      "Found 1128 race wins.\n",
      "\n",
      "Top 10 Most Successful Drivers (with names):\n",
      "full_name\n",
      "Lewis Hamilton        105\n",
      "Michael Schumacher     91\n",
      "Max Verstappen         63\n",
      "Sebastian Vettel       53\n",
      "Alain Prost            51\n",
      "Ayrton Senna           41\n",
      "Fernando Alonso        32\n",
      "Nigel Mansell          31\n",
      "Jackie Stewart         27\n",
      "Niki Lauda             25\n",
      "dtype: int64\n"
     ]
    }
   ],
   "source": [
    "# Winners analysis\n",
    "\n",
    "# Convert position to numeric (some values might be '\\\\N')\n",
    "results[\"position_num\"] = pd.to_numeric(results[\"position\"], errors=\"coerce\")\n",
    "\n",
    "# Filter for winners (position = 1)\n",
    "winners = results[results[\"position_num\"] == 1].copy()\n",
    "print(f\"Found {len(winners)} race wins.\")\n",
    "\n",
    "# Merge with driver names\n",
    "winner_names = winners.merge(\n",
    "    drivers[[\"driverId\", \"forename\", \"surname\"]], on=\"driverId\"\n",
    ")\n",
    "\n",
    "## Add full_name column\n",
    "winner_names[\"full_name\"] = winner_names[\"forename\"] + \" \" + winner_names[\"surname\"]\n",
    "winner_name_counts = (\n",
    "    winner_names.groupby(\"full_name\").size().sort_values(ascending=False)\n",
    ")\n",
    "\n",
    "print(\"\")\n",
    "print(\"Top 10 Most Successful Drivers (with names):\")\n",
    "print(winner_name_counts.head(10))\n",
    "\n",
    "# Count wins (position = 1)\n",
    "driver_wins = (\n",
    "    winner_names[winner_names[\"position\"] == \"1\"]\n",
    "    .groupby(\"full_name\")\n",
    "    .size()\n",
    "    .sort_values(ascending=False)\n",
    ")\n",
    "top_winners = driver_wins.nlargest(15)\n"
   ]
  },
  {
   "cell_type": "code",
   "execution_count": null,
   "metadata": {},
   "outputs": [
    {
     "data": {
      "image/png": "[encoded data removed]",
      "text/plain": [
       "<Figure size 1000x500 with 1 Axes>"
      ]
     },
     "metadata": {},
     "output_type": "display_data"
    },
    {
     "name": "stdout",
     "output_type": "stream",
     "text": [
      "Top 10 Driver-Constructor Combinations:\n",
      "    constructor_name           full_name  wins\n",
      "136         Mercedes      Lewis Hamilton    84\n",
      "65           Ferrari  Michael Schumacher    72\n",
      "145         Red Bull      Max Verstappen    63\n",
      "146         Red Bull    Sebastian Vettel    38\n",
      "112          McLaren        Ayrton Senna    35\n",
      "111          McLaren         Alain Prost    30\n",
      "186         Williams       Nigel Mansell    28\n",
      "137         Mercedes        Nico Rosberg    23\n",
      "127          McLaren      Lewis Hamilton    21\n",
      "179         Williams          Damon Hill    21\n"
     ]
    }
   ],
   "source": [
    "def get_driver_constructor_wins(results, drivers, constructors):\n",
    "    \"\"\"Get wins data with driver and constructor information merged.\"\"\"\n",
    "    return (\n",
    "        results[results[\"position\"] == \"1\"]\n",
    "        .merge(drivers[[\"driverId\", \"forename\", \"surname\"]], on=\"driverId\")\n",
    "        .merge(constructors[[\"constructorId\", \"name\"]], on=\"constructorId\")\n",
    "        .assign(\n",
    "            full_name=lambda df: df[\"forename\"] + \" \" + df[\"surname\"],\n",
    "            constructor_name=lambda df: df[\"name\"],\n",
    "        )\n",
    "    )\n",
    "\n",
    "\n",
    "def get_top_combinations(wins_data, n=5):\n",
    "    \"\"\"Get top n driver-constructor combinations by wins.\"\"\"\n",
    "    return (\n",
    "        wins_data.groupby([\"constructor_name\", \"full_name\"])\n",
    "        .size()\n",
    "        .reset_index(name=\"wins\")\n",
    "        .nlargest(n, \"wins\")\n",
    "    )\n",
    "\n",
    "\n",
    "def plot_top_combinations(top_combos):\n",
    "    \"\"\"Create horizontal bar chart for top driver-constructor combinations.\"\"\"\n",
    "    fig, ax = plt.subplots(figsize=(10, 5))\n",
    "\n",
    "    # Create labels and plot bars\n",
    "    labels = [\n",
    "        f\"{row['full_name']} ({row['constructor_name']})\"\n",
    "        for _, row in top_combos.iterrows()\n",
    "    ]\n",
    "    bars = ax.barh(range(len(top_combos)), top_combos[\"wins\"], color=\"darkgreen\")\n",
    "\n",
    "    # Configure plot\n",
    "    ax.set_yticks(range(len(top_combos)))\n",
    "    ax.set_yticklabels(labels)\n",
    "    ax.set_xlabel(\"Number of Wins\")\n",
    "    ax.set_title(\"Most Successful Driver-Constructor Combinations\")\n",
    "\n",
    "    # Add value labels\n",
    "    for i, (bar, wins) in enumerate(zip(bars, top_combos[\"wins\"])):\n",
    "        ax.text(\n",
    "            bar.get_width() + 0.2,\n",
    "            bar.get_y() + bar.get_height() / 2,\n",
    "            str(wins),\n",
    "            va=\"center\",\n",
    "            fontweight=\"bold\",\n",
    "        )\n",
    "\n",
    "    plt.tight_layout()\n",
    "    plt.show()\n",
    "\n",
    "\n",
    "# Main execution\n",
    "wins_data = get_driver_constructor_wins(results, drivers, constructors)\n",
    "top_combos = get_top_combinations(wins_data, n=5)\n",
    "plot_top_combinations(top_combos)\n",
    "\n",
    "print(\"Top 10 Driver-Constructor Combinations:\")\n",
    "print(get_top_combinations(wins_data, n=10))\n"
   ]
  },
  {
   "cell_type": "markdown",
   "metadata": {},
   "source": [
    "## Next Steps\n",
    "Based on this exploration, we'll do the following:\n",
    "\n",
    "1. Focus on recent years for better prediction relevance\n",
    "2. Create features from driver/constructor historical performance\n",
    "3. Perform imputing on data appropriately\n",
    "4. Prepare data for linear regression modeling"
   ]
  }
 ],
 "metadata": {
  "kernelspec": {
   "display_name": ".venv",
   "language": "python",
   "name": "python3"
  },
  "language_info": {
   "codemirror_mode": {
    "name": "ipython",
    "version": 3
   },
   "file_extension": ".py",
   "mimetype": "text/x-python",
   "name": "python",
   "nbconvert_exporter": "python",
   "pygments_lexer": "ipython3",
   "version": "3.12.6"
  }
 },
 "nbformat": 4,
 "nbformat_minor": 4
}
